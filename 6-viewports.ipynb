{
 "cells": [
  {
   "cell_type": "markdown",
   "id": "599de1b7",
   "metadata": {},
   "source": [
    "## Tema 5: Proyección y recorte 3D"
   ]
  },
  {
   "cell_type": "code",
   "execution_count": 1,
   "id": "17114991",
   "metadata": {},
   "outputs": [],
   "source": [
    "from OpenGL.GL import *\n",
    "from OpenGL.GLUT import *\n",
    "from OpenGL.GLU import *\n",
    "\n",
    "import igv3 as igv\n",
    "import cubos as cubos"
   ]
  },
  {
   "cell_type": "code",
   "execution_count": 2,
   "id": "6f3c608a",
   "metadata": {},
   "outputs": [],
   "source": [
    "from math import sqrt\n",
    "from math import cos\n",
    "from math import sin\n",
    "from math import tan\n",
    "from math import pi"
   ]
  },
  {
   "cell_type": "markdown",
   "id": "e07e6f56",
   "metadata": {},
   "source": [
    "### Función de inicialización de la librería con los valores deseados"
   ]
  },
  {
   "cell_type": "code",
   "execution_count": 3,
   "id": "5ab2fcc2",
   "metadata": {},
   "outputs": [],
   "source": [
    "def init_gl():\n",
    "    glutInit()                                     # Inicializa la librería GLUT\n",
    "    glutInitDisplayMode(GLUT_SINGLE | GLUT_RGB | GLUT_DEPTH)    # Único frame buffer y modo de color RGBA\n",
    "    glutInitWindowSize(900, 600)                   # (width, height)\n",
    "    glutInitWindowPosition(100, 100)               # (x pos, y pos)\n",
    "    glutCreateWindow(b'PROYECCION 3D')             # Creación de la ventana (si no se pone b da error)\n",
    "    glClearColor(1.0, 1.0, 1.0, 1.0);              # Color del buffer\n",
    "\n",
    "    glEnable(GL_DEPTH_TEST)                        # HABILITA COMPROBACIÓN DE PROFUNDIDAD EN EL DIBUJO           "
   ]
  },
  {
   "cell_type": "markdown",
   "id": "1e1aebb0",
   "metadata": {},
   "source": [
    "### Funciones de los viewports\n",
    "\n",
    "La callback de display `display` muestra 6 viewports con distintas proyecciones del mundo, para ello invoca a las 6 funciones siguientes:\n",
    "\n",
    "-  `viewport_cabinet`: muestra la proyección caballera del mundo\n",
    "-  `viewport_ortho_front`: muestra la proyección ortogonal del mundo con el punto de vista por defecto (hacia Zworld-)\n",
    "-  `viewport_ortho_rear`: muestra la proyección ortogonal del mundo con el punto de vista hacia Zworld+\n",
    "-  `viewport_ortogonal_right`: muestra la proyección ortogonal del mundo con el punto de vista hacia XWorld-\n",
    "-  `viewport_ortogonal_left`: muestra la proyección ortogonal del mundo con el punto de vista hacia XWorld+\n",
    "-  `viewport_ortogonal_left`: muestra la proyección ortogonal del mundo con el punto de vista hacia Yworld-"
   ]
  },
  {
   "cell_type": "code",
   "execution_count": 4,
   "id": "67c48560",
   "metadata": {},
   "outputs": [],
   "source": [
    "def viewport_cabinet(xMin, xMax, yMin, yMax, dNear, dFar):\n",
    "\n",
    "    # Definición del viewport\n",
    "    glViewport(0,300,300,300)   # glViewport(x_lower_left_corner, y_lower_left_corner, width, height)\n",
    "\n",
    "    \n",
    "    ###############################################################\n",
    "    # PREPARACIÓN DE LA PROYECCIÓN - SE ESTUDIARÁ POSTERIORMENTE\n",
    "    ###############################################################\n",
    "    \n",
    "    # PREPARACIÓN DE LA MATRIZ DE CONVERSIÓN GABINETE\n",
    "    factor = pi/180                 # Factor de conversión de grados a radianes\n",
    "    alpha = 63.4                    # Definición del ángulo alfa\n",
    "    alpha = alpha * factor          # Conversión a radianes\n",
    "    phi = 30                        # Definición del ángulo phi \n",
    "    phi = phi * factor              # Conversión a radianes\n",
    "    cx = cos(phi)/tan(alpha)\n",
    "    cy = sin(phi)/tan(alpha)\n",
    "    cabinet_matrix = [1, 0, 0, 0, 0, 1, 0, 0, cx, cy, 1, 0, 0, 0, 0, 1]\n",
    "    \n",
    "    # DEFINICIÓN DE LA MATRIZ DE PROYECCIÓN (tipo de proyección) \n",
    "    glMatrixMode(GL_PROJECTION)\n",
    "    glLoadIdentity()\n",
    "    glMultMatrixf(cabinet_matrix)   # definición de la proyección (tipo gabinete)\n",
    "    \n",
    "    ###############################################################\n",
    "    \n",
    "    # Definición del volumen de recorte\n",
    "    glOrtho(xMin, xMax, yMin, yMax, dNear, dFar) \n",
    "\n",
    "    glMatrixMode(GL_MODELVIEW)\n",
    "    glLoadIdentity()\n",
    "    \n",
    "    # Definición de la posición de la cámara (punto de vista)\n",
    "    # valor por defecto de lookAt (punto de vista hacia Zworld-)\n",
    "    x0 = 0.0;  y0 = 0.0;  z0 = 0.0;  xref = 0.0;  yref = 0.0;  zref = -1.0;  vx = 0.0;  vy = 1.0; vz = 0.0\n",
    "    gluLookAt(x0, y0, z0, xref, yref, zref, vx, vy, vz)   # Se podría eliminar porque se usa el valor por defecto\n",
    "    \n",
    "    # Dibujo de los ejes y la casa\n",
    "    igv.axes(xMin, xMax, yMin, yMax, dNear, dFar, True)\n",
    "    cubos.escenario()\n",
    "    \n",
    "    # Dibujo de una etiqueta\n",
    "    #glRasterPos3fv([0.0, -1.0, 0.0])\n",
    "    #label_text = bytes(\"GABINETE\", encoding = \"utf-8\")\n",
    "    #glutBitmapString(GLUT_BITMAP_8_BY_13, label_text)\n",
    "    \n",
    "    igv.draw_text_3d(\"GABINETE\", 0.0, -1.0, 0.0)\n",
    "    "
   ]
  },
  {
   "cell_type": "code",
   "execution_count": 5,
   "id": "9b7eae0a",
   "metadata": {},
   "outputs": [],
   "source": [
    "def viewport_ortho_front(xMin, xMax, yMin, yMax, dNear, dFar):\n",
    "    \n",
    "    # Definición del viewport\n",
    "    glViewport(300, 300, 300,300)   # glViewport(x_lower_left_corner, y_lower_left_corner, width, height)\n",
    "    \n",
    "    # Preparación de la proyección ortogonal\n",
    "    glMatrixMode(GL_PROJECTION)\n",
    "    glLoadIdentity()\n",
    "    \n",
    "    glOrtho(xMin, xMax, yMin, yMax, dNear, dFar) \n",
    "\n",
    "    glMatrixMode(GL_MODELVIEW)\n",
    "    glLoadIdentity()\n",
    "    \n",
    "    # Definición de la posición de la cámara (punto de vista). Valor por defecto de lookAt (punto de vista hacia Zworld-)\n",
    "    x0 = 0.0;  y0 = 0.0;  z0 = 0.0;  xref = 0.0;  yref = 0.0;  zref = -1.0;  vx = 0.0;  vy = 1.0; vz = 0.0\n",
    "    gluLookAt(x0, y0, z0, xref, yref, zref, vx, vy, vz)   # Se podría eliminar porque se usa el valor por defecto\n",
    "    \n",
    "    # Dibujo de los ejes y la casa\n",
    "    igv.axes(xMin, xMax, yMin, yMax, dNear, dFar, True)\n",
    "    cubos.escenario()\n",
    "    \n",
    "    # Dibujo de una etiqueta  \n",
    "    igv.draw_text_3d(\"VISTA FRONTAL\", -1.0, -1.0, 0.0)"
   ]
  },
  {
   "cell_type": "code",
   "execution_count": 6,
   "id": "62009fcd",
   "metadata": {},
   "outputs": [],
   "source": [
    "def viewport_ortho_rear(xMin, xMax, yMin, yMax, dNear, dFar):\n",
    "    \n",
    "    # Definición del viewport\n",
    "    glViewport(300,0,300,300)   # glViewport(x_lower_left_corner, y_lower_left_corner, width, height)\n",
    "    \n",
    "    # Preparación de la proyección ortogonal\n",
    "    glMatrixMode(GL_PROJECTION)\n",
    "    glLoadIdentity()\n",
    "    \n",
    "    glOrtho(xMin, xMax, yMin, yMax, dNear, dFar) \n",
    "\n",
    "    glMatrixMode(GL_MODELVIEW)\n",
    "    glLoadIdentity()\n",
    "    \n",
    "    # Definición de la posición de la cámara (punto de vista). Punto de vista hacia Zworld+\n",
    "    x0 = 0.0;  y0 = 0.0;  z0 = 0.0;  xref = 0.0;  yref = 0.0;  zref = 1.0;  vx = 0.0;  vy = 1.0; vz = 0.0\n",
    "    gluLookAt(x0, y0, z0, xref, yref, zref, vx, vy, vz)\n",
    "    \n",
    "    # Dibujo de los ejes y la casa\n",
    "    igv.axes(xMin, xMax, yMin, yMax, dNear, dFar, True)\n",
    "    cubos.escenario()\n",
    "    \n",
    "    # Dibujo de una etiqueta\n",
    "    igv.draw_text_3d(\"VISTA POSTERIOR\", 1.0, -1.0, 0.0)\n",
    "    "
   ]
  },
  {
   "cell_type": "code",
   "execution_count": 7,
   "id": "2e1ea9e7",
   "metadata": {},
   "outputs": [],
   "source": [
    "def viewport_ortho_right(xMin, xMax, yMin, yMax, dNear, dFar):\n",
    "    \n",
    "    # Definición del viewport\n",
    "    glViewport(600,300,300,300)   # glViewport(x_lower_left_corner, y_lower_left_corner, width, height)\n",
    "    \n",
    "    # Preparación de la proyección ortogonal\n",
    "    glMatrixMode(GL_PROJECTION)\n",
    "    glLoadIdentity()\n",
    "    \n",
    "    glOrtho(xMin, xMax, yMin, yMax, dNear, dFar) \n",
    "  \n",
    "    glMatrixMode(GL_MODELVIEW)\n",
    "    glLoadIdentity()\n",
    "    \n",
    "    # Definición de la posición de la cámara (punto de vista). Punto de vista hacia Xworld-\n",
    "    x0 = 0.0;  y0 = 0.0;  z0 =0.0;  xref = -1;  yref = 0.0;  zref = 0.0;  vx = 0.0;  vy = 1.0; vz = 0.0\n",
    "    gluLookAt(x0, y0, z0, xref, yref, zref, vx, vy, vz)\n",
    "    \n",
    "    # Dibujo de los ejes y la casa\n",
    "    igv.axes(xMin, xMax, yMin, yMax, dNear, dFar, True)\n",
    "    cubos.escenario()\n",
    "    \n",
    "    # Dibujo de una etiqueta\n",
    "    igv.draw_text_3d(\"VISTA LATERAL DERECHO\", 0.0, -1.0, 2.0)\n",
    "    "
   ]
  },
  {
   "cell_type": "code",
   "execution_count": 8,
   "id": "f4444ad1",
   "metadata": {},
   "outputs": [],
   "source": [
    "def viewport_ortho_left(xMin, xMax, yMin, yMax, dNear, dFar):\n",
    "    \n",
    "    # Definición del viewport\n",
    "    glViewport(600,0,300,300)   # glViewport(x_lower_left_corner, y_lower_left_corner, width, height)\n",
    "    \n",
    "    # Preparación de la proyección ortogonal\n",
    "    glMatrixMode(GL_PROJECTION)\n",
    "    glLoadIdentity()\n",
    "    \n",
    "    glOrtho(xMin, xMax, yMin, yMax, dNear, dFar) \n",
    "\n",
    "    glMatrixMode(GL_MODELVIEW)\n",
    "    glLoadIdentity()\n",
    "    \n",
    "    # Definición de la posición de la cámara (punto de vista). Punto de vista hacia Xworld+\n",
    "    x0 = 0.0;  y0 = 0.0;  z0 =0.0;  xref = 1;  yref = 0.0;  zref = 0.0;  vx = 0.0;  vy = 1.0; vz = 0.0\n",
    "    gluLookAt(x0, y0, z0, xref, yref, zref, vx, vy, vz)\n",
    "    \n",
    "    # Dibujo de los ejes y la casa\n",
    "    igv.axes(xMin, xMax, yMin, yMax, dNear, dFar, True)\n",
    "    cubos.escenario()\n",
    "    \n",
    "    # Dibujo de una etiqueta\n",
    "    igv.draw_text_3d(\"VISTA LATERAL IZQUIERDO\", 0.0, -1.0, -2.0)\n",
    "    "
   ]
  },
  {
   "cell_type": "code",
   "execution_count": 9,
   "id": "2de40f9a",
   "metadata": {},
   "outputs": [],
   "source": [
    "def viewport_ortho_top(xMin, xMax, yMin, yMax, dNear, dFar):\n",
    "    \n",
    "    # Definición del viewport\n",
    "    glViewport(0,0,300,300)   # glViewport(x_lower_left_corner, y_lower_left_corner, width, height)\n",
    "    \n",
    "    # Preparación de la proyección ortogonal\n",
    "    glMatrixMode(GL_PROJECTION)\n",
    "    glLoadIdentity()\n",
    "    \n",
    "    glOrtho(xMin, xMax, yMin, yMax, dNear, dFar) \n",
    "\n",
    "    glMatrixMode(GL_MODELVIEW)\n",
    "    glLoadIdentity()\n",
    "    \n",
    "    # Definición de la posición de la cámara (punto de vista). Punto de vista hacia Yworld-\n",
    "    x0 = 0.0;  y0 = 0.0;  z0 =0.0;  xref = 0.0;  yref = -1.0;  zref = 0.0;  vx = 0.0;  vy = 0.0; vz = -1.0\n",
    "    gluLookAt(x0, y0, z0, xref, yref, zref, vx, vy, vz)\n",
    "    \n",
    "    # Dibujo de los ejes y la casa\n",
    "    igv.axes(xMin, xMax, yMin, yMax, dNear, dFar, True)\n",
    "    cubos.escenario()\n",
    "    \n",
    "    # Dibujo de una etiqueta\n",
    "    igv.draw_text_3d(\"VISTA PLANTA\", 1.0, 0.0, 1.0)\n",
    "    "
   ]
  },
  {
   "cell_type": "markdown",
   "id": "18b5466c",
   "metadata": {},
   "source": [
    "### Callback de display"
   ]
  },
  {
   "cell_type": "code",
   "execution_count": 10,
   "id": "5230ce98",
   "metadata": {},
   "outputs": [],
   "source": [
    "def display():\n",
    " \n",
    "    glClear(GL_COLOR_BUFFER_BIT | GL_DEPTH_BUFFER_BIT)    # RESETEO DE LOS BUFFERS\n",
    "    \n",
    "    xMin = -3; xMax = 3; yMin = -3; yMax = 3\n",
    "    \n",
    "    dNear = -3;  dFar = 3  \n",
    "      \n",
    "    viewport_cabinet(xMin, xMax, yMin, yMax, dNear, dFar)\n",
    "    viewport_ortho_front(xMin, xMax, yMin, yMax, dNear, dFar)\n",
    "    viewport_ortho_rear(xMin, xMax, yMin, yMax, dNear, dFar)\n",
    "    viewport_ortho_right(xMin, xMax, yMin, yMax, dNear, dFar)\n",
    "    viewport_ortho_left(xMin, xMax, yMin, yMax, dNear, dFar)\n",
    "    viewport_ortho_top(xMin, xMax, yMin, yMax, dNear, dFar)\n",
    "    \n",
    "    glFlush()\n",
    "    "
   ]
  },
  {
   "cell_type": "markdown",
   "id": "09f9da73",
   "metadata": {},
   "source": [
    "### Función principal que llama a las funciones de inicialización y de dibujo"
   ]
  },
  {
   "cell_type": "code",
   "execution_count": 11,
   "id": "f88476fd",
   "metadata": {},
   "outputs": [],
   "source": [
    "def main():\n",
    "    init_gl()\n",
    "    glutDisplayFunc(display)\n",
    "    glutMainLoop()    # Deja la ventana abierta a la espera de eventos\n",
    "    "
   ]
  },
  {
   "cell_type": "markdown",
   "id": "30611dc5",
   "metadata": {},
   "source": [
    "### Llamada a la función principal"
   ]
  },
  {
   "cell_type": "code",
   "execution_count": null,
   "id": "5ab91f77",
   "metadata": {
    "scrolled": true
   },
   "outputs": [],
   "source": [
    "main()"
   ]
  },
  {
   "cell_type": "code",
   "execution_count": null,
   "id": "6419c8c5-f0da-4101-91ee-c29237a6e964",
   "metadata": {},
   "outputs": [],
   "source": []
  }
 ],
 "metadata": {
  "kernelspec": {
   "display_name": "Python 3 (ipykernel)",
   "language": "python",
   "name": "python3"
  },
  "language_info": {
   "codemirror_mode": {
    "name": "ipython",
    "version": 3
   },
   "file_extension": ".py",
   "mimetype": "text/x-python",
   "name": "python",
   "nbconvert_exporter": "python",
   "pygments_lexer": "ipython3",
   "version": "3.12.4"
  }
 },
 "nbformat": 4,
 "nbformat_minor": 5
}
